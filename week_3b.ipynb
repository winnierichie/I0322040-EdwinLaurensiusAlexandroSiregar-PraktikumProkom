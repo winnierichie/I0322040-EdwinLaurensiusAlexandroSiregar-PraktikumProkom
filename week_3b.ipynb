{
 "cells": [
  {
   "cell_type": "code",
   "execution_count": null,
   "metadata": {},
   "outputs": [],
   "source": [
    "print(\"Edwin Siregar\")\n",
    "print(\"I0322040\")"
   ]
  }
 ],
 "metadata": {
  "language_info": {
   "name": "python"
  },
  "orig_nbformat": 4
 },
 "nbformat": 4,
 "nbformat_minor": 2
}
