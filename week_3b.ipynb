{
 "cells": [
  {
   "cell_type": "code",
   "execution_count": null,
   "metadata": {},
   "outputs": [],
   "source": [
    "print(\"Edwin Siregar\")\n",
    "print(\"I0322040\")"
   ]
  },
  {
   "cell_type": "code",
   "execution_count": 16,
   "metadata": {},
   "outputs": [
    {
     "name": "stdout",
     "output_type": "stream",
     "text": [
      "masukkan angka yang anda inginkan : \n"
     ]
    },
    {
     "ename": "TypeError",
     "evalue": "float() argument must be a string or a real number, not 'NoneType'",
     "output_type": "error",
     "traceback": [
      "\u001b[1;31m---------------------------------------------------------------------------\u001b[0m",
      "\u001b[1;31mTypeError\u001b[0m                                 Traceback (most recent call last)",
      "Cell \u001b[1;32mIn[16], line 2\u001b[0m\n\u001b[0;32m      1\u001b[0m \u001b[39m#Operasi \u001b[39;00m\n\u001b[1;32m----> 2\u001b[0m x\u001b[39m=\u001b[39m\u001b[39mfloat\u001b[39;49m(\u001b[39mprint\u001b[39;49m(\u001b[39m\"\u001b[39;49m\u001b[39mmasukkan angka yang anda inginkan : \u001b[39;49m\u001b[39m\"\u001b[39;49m))\n\u001b[0;32m      3\u001b[0m y \u001b[39m=\u001b[39m x \u001b[39m<\u001b[39m \u001b[39m5\u001b[39m \u001b[39mor\u001b[39;00m \u001b[39m10\u001b[39m \u001b[39m<\u001b[39m x \u001b[39m<\u001b[39m \u001b[39m15\u001b[39m \u001b[39mor\u001b[39;00m x\u001b[39m>\u001b[39m\u001b[39m=\u001b[39m\u001b[39m20\u001b[39m\n\u001b[0;32m      4\u001b[0m \u001b[39mprint\u001b[39m(y) \n",
      "\u001b[1;31mTypeError\u001b[0m: float() argument must be a string or a real number, not 'NoneType'"
     ]
    }
   ],
   "source": [
    "#Operasi \n",
    "x=int(print(\"masukkan angka yang anda inginkan : \"))\n",
    "y = x < 5 or 10 < x < 15 or x>=20\n",
    "print(y) "
   ]
  }
 ],
 "metadata": {
  "kernelspec": {
   "display_name": "Python 3",
   "language": "python",
   "name": "python3"
  },
  "language_info": {
   "codemirror_mode": {
    "name": "ipython",
    "version": 3
   },
   "file_extension": ".py",
   "mimetype": "text/x-python",
   "name": "python",
   "nbconvert_exporter": "python",
   "pygments_lexer": "ipython3",
   "version": "3.11.2"
  },
  "orig_nbformat": 4
 },
 "nbformat": 4,
 "nbformat_minor": 2
}
