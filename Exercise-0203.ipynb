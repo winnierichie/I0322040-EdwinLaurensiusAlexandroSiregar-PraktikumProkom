{
 "cells": [
  {
   "cell_type": "code",
   "execution_count": 2,
   "metadata": {},
   "outputs": [
    {
     "name": "stdout",
     "output_type": "stream",
     "text": [
      "Edwin Laurensius Alexandro Siregar\n",
      "I0322040\n",
      "B\n"
     ]
    }
   ],
   "source": [
    "print(input(\"Nama: \"))\n",
    "print(input(\"NIM: \"))\n",
    "print(input(\"Kelas: \"))"
   ]
  },
  {
   "attachments": {},
   "cell_type": "markdown",
   "metadata": {},
   "source": [
    "## 1."
   ]
  },
  {
   "attachments": {},
   "cell_type": "markdown",
   "metadata": {},
   "source": [
    "* **A** Hitunglah luas Prisma Segitiga dengan ketentuan sebagai berikut:\n",
    "    * Alas dan tutup prisma merupakan segitiga\n",
    "    * Terdapat 3 persegi panjang yang menyinggung alas dan tutup prisma\n",
    "    * Sisi persegi panjang yang menyinggung segitiga adalah sisi lebar\n",
    "```python\n",
    "    dictionary_figure = {\"Persegi\":{\"Sisi\":22},\n",
    "                        \"Persegi Panjang\":{\"Panjang\":10,\"Lebar\":5},\n",
    "                        \"Segitiga Sama Sisi\":{\"Sisi\":6,\"Tinggi\":3**(1/2) * 3},\n",
    "                        \"Lingkaran\":{\"Diameter\":7}}\n",
    "```\n",
    "* **B** Hitunglah luas Tabung dengan ketentuan sebagai berikut:\n",
    "    * Alas dan tutup tabung merupakan lingkaran\n",
    "    * Terdapat 1 persegi yang menyinggung alas dan tutup tabung\n",
    "    * Persegi yang ada mengelilingi lingkaran hingga sisi dari persegi saling bertemu\n",
    "\n",
    "> **note:** *Pada soal ini kalian hanya boleh menggunakan key-value pair dan index pada list. Tidak diperbolehkan menulis secara langsung dimensi dari figure*"
   ]
  },
  {
   "cell_type": "code",
   "execution_count": 21,
   "metadata": {},
   "outputs": [
    {
     "name": "stdout",
     "output_type": "stream",
     "text": [
      "luas prisma segitiga adalah :  181.1769145362398\n",
      "luas tabung adalah :  560.9300000000001\n"
     ]
    }
   ],
   "source": [
    "dictionary_figure = {\"persegi\" :{\"sisi\":22},\n",
    "                    \"persegi panjang\":{\"panjang\":10, \"lebar\":5},\n",
    "                    \"segitiga sama sisi\":{\"sisi\":6, \"tinggi\":3**(1/2)*3},\n",
    "                    \"lingkaran\":{\"diameter\":7}}\n",
    "                    \n",
    "luassegitigasamasisi=(dictionary_figure[\"segitiga sama sisi\"][\"sisi\"])*(dictionary_figure[\"segitiga sama sisi\"][\"tinggi\"])*(1/2)\n",
    "luaspersegipanjang=(dictionary_figure[\"persegi panjang\"][\"panjang\"])*(dictionary_figure[\"persegi panjang\"][\"lebar\"])\n",
    "luaslingkaran=(3.14)*(dictionary_figure[\"lingkaran\"][\"diameter\"])**(2)*(1/4)\n",
    "luaspersegi=(dictionary_figure[\"persegi\"][\"sisi\"])**2\n",
    "\n",
    "luasprismasegitiga=luassegitigasamasisi*2+luaspersegipanjang*3\n",
    "luastabung=luaslingkaran*2+luaspersegi\n",
    "print(\"luas prisma segitiga adalah : \", luasprismasegitiga)\n",
    "print(\"luas tabung adalah : \", luastabung)"
   ]
  },
  {
   "attachments": {},
   "cell_type": "markdown",
   "metadata": {},
   "source": [
    "## 2."
   ]
  },
  {
   "attachments": {},
   "cell_type": "markdown",
   "metadata": {},
   "source": [
    "Diberikan List sebagai berikut\n",
    "```Python\n",
    "    data = [8, 8, 4, 6, 8, 9, 6, 5, 4, 7]\n",
    "```\n",
    "* Tambahkan 3 angka baru ke dalam list\n",
    "* Tampilkan output list dengan berurutan dari yang terkecil hingga yang terbesar\n",
    "* Tentukan mean, median, dan modus pada list baru"
   ]
  },
  {
   "cell_type": "code",
   "execution_count": 44,
   "metadata": {},
   "outputs": [
    {
     "name": "stdout",
     "output_type": "stream",
     "text": [
      "[3, 4, 4, 5, 5, 5, 6, 6, 7, 8, 8, 8, 9]\n",
      "6\n",
      "6\n",
      "5\n"
     ]
    }
   ],
   "source": [
    "data=[8, 8, 4, 6, 8, 9, 6, 5, 4, 7]\n",
    "databaru=[3,5,5]\n",
    "data.extend (databaru)\n",
    "data.sort()\n",
    "print(data)\n",
    "import statistics\n",
    "ratarata=statistics.mean(data)\n",
    "nilaitengah=statistics.median(data)\n",
    "datayangpalingseringmuncul=statistics.mode(data)\n",
    "print(ratarata)\n",
    "print(nilaitengah)\n",
    "print(datayangpalingseringmuncul)"
   ]
  },
  {
   "attachments": {},
   "cell_type": "markdown",
   "metadata": {},
   "source": [
    "## 3. "
   ]
  },
  {
   "attachments": {},
   "cell_type": "markdown",
   "metadata": {},
   "source": [
    "Dalam pembuatan SIM ada beberapa syarat yang harus dipenuhi bagi para pembuat SIM yaitu:\n",
    "1. Pembuat SIM harus memiliki usia setidaknya 17 tahun\n",
    "2. Pembuat SIM lulus dalam tes kesehatan\n",
    "3. Pembuat SIM lulus dalam uji psikotes\n",
    "4. Pembuat SIM telah mengikuti ujian tertulis dengan nilai setidaknya 70\n",
    "5. Pembuat SIM lulus dalam simulasi berkendara\n",
    "6. Apabila pembuat SIM memiliki surat rekomendasi dari kursus berkendara maka pembuat SIM akan mendapatkan SIM (mengabaikan poin 1-5 apabila poin ke-6 terpenuhi)\n",
    "\n",
    "Buatlah input yang membuat setiap poin menjadi variabel. Output yang dihasilkan merupakan \"True\" apabila pembuat berhak mendapatkan SIM dan \"False\" apabila pembuat tidak berhak mendapatkan SIM.\n",
    "\n",
    "> **note:** *Tidak perlu menggunakan loops dalam membuat programnya*"
   ]
  },
  {
   "cell_type": "code",
   "execution_count": 50,
   "metadata": {},
   "outputs": [
    {
     "name": "stdout",
     "output_type": "stream",
     "text": [
      "apakah pembuat SIM berhak untuk mendapatkan SIM? False\n"
     ]
    }
   ],
   "source": [
    "usia=int(input(\"masukkan usia anda : \"))\n",
    "teskesehatan=str(input(\"apakah anda lulus tes kesehatan (ya/tidak)\"))\n",
    "ujipsikotes=str(input(\"apakah anda lulus uji psikotes (ya/tidak)\"))\n",
    "nilaiujiantertulis=float(input(\"berapa nilai anda?\"))\n",
    "simulasiberkendara=str(input(\"apakah anda lulus simulasi berkendara? (ya/tidak)\"))\n",
    "suratrekomendasi=str(input(\"apakah pembuat SIM memiliki surat rekomendasi dari kursus berkendara? (ya/tidak)\"))\n",
    "\n",
    "uji=usia>=17 and teskesehatan==\"ya\" and ujipsikotes==\"ya\" and nilaiujiantertulis>=70 and simulasiberkendara==\"ya\" or suratrekomendasi==\"ya\"\n",
    "print(\"apakah pembuat SIM berhak untuk mendapatkan SIM?\", uji)"
   ]
  }
 ],
 "metadata": {
  "kernelspec": {
   "display_name": "Python 3",
   "language": "python",
   "name": "python3"
  },
  "language_info": {
   "codemirror_mode": {
    "name": "ipython",
    "version": 3
   },
   "file_extension": ".py",
   "mimetype": "text/x-python",
   "name": "python",
   "nbconvert_exporter": "python",
   "pygments_lexer": "ipython3",
   "version": "3.11.2"
  },
  "orig_nbformat": 4,
  "vscode": {
   "interpreter": {
    "hash": "5addf786bcd861d1ce5006f23111f8cbb206731e5b61b0a5632ba9e0252558a8"
   }
  }
 },
 "nbformat": 4,
 "nbformat_minor": 2
}
