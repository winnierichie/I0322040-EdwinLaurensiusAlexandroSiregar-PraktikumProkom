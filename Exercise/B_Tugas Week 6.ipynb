{
 "cells": [
  {
   "attachments": {},
   "cell_type": "markdown",
   "metadata": {},
   "source": [
    "1. Tulis program dengan fungsi untuk menentukan yang paling besar dari empat angka yang diberikan!\n",
    "     ###### Note: Angka ditentukan sendiri oleh praktikan"
   ]
  },
  {
   "cell_type": "code",
   "execution_count": 25,
   "metadata": {},
   "outputs": [
    {
     "name": "stdout",
     "output_type": "stream",
     "text": [
      "nilai terbesar dari list adalah: 12\n"
     ]
    }
   ],
   "source": [
    "# Kerjakan Nomor 1 di bawah ini\n",
    "list=[4,12,9,10]\n",
    "print(f\"nilai terbesar dari list adalah: {max(list)}\")"
   ]
  },
  {
   "attachments": {},
   "cell_type": "markdown",
   "metadata": {},
   "source": [
    "2. Tulis fungsi Python yang mengambil list awal dan menampilkan list baru dengan angka unik (tidak ada angka yang sama) dari list yang pertama."
   ]
  },
  {
   "cell_type": "code",
   "execution_count": null,
   "metadata": {},
   "outputs": [],
   "source": [
    "list_awal = [9,9,9,9,9,9,9,10,11,13,14,15,17,19]"
   ]
  },
  {
   "cell_type": "code",
   "execution_count": 28,
   "metadata": {},
   "outputs": [
    {
     "name": "stdout",
     "output_type": "stream",
     "text": [
      "[9, 10, 11, 13, 14, 15, 17, 19]\n"
     ]
    }
   ],
   "source": [
    "# Kerjakan Nomor 2 di bawah ini\n",
    "def angka_unik (list_awal):\n",
    "    list_unik = []\n",
    "    for angka in list_awal:\n",
    "        if angka not in list_unik:\n",
    "            list_unik.append(angka)\n",
    "    return list_unik\n",
    "\n",
    "list_awal = [9,9,9,9,9,9,9,10,11,13,14,15,17,19]\n",
    "list_unik=angka_unik(list_awal)\n",
    "print(list_unik)"
   ]
  },
  {
   "attachments": {},
   "cell_type": "markdown",
   "metadata": {},
   "source": [
    "3. Hitunglah 2 angka yang dapat diinputkan dengan angka kedua menjadi pangkat bagi angka pertama, dan angka kedua menjadi pembagi angka pertama (tampilkan juga sisa hasil pembagiannya) \n",
    "\n",
    "clue : gunakan fungsi yang ada di built-in tanpa menggunakan sintaks operator seperti * ataupun /."
   ]
  },
  {
   "cell_type": "code",
   "execution_count": 18,
   "metadata": {},
   "outputs": [
    {
     "name": "stdout",
     "output_type": "stream",
     "text": [
      "5 pangkat 2 = 25\n",
      "5 dibagi 2 = 2 dengan sisa hasil 1\n"
     ]
    }
   ],
   "source": [
    "# Kerjakan Nomor 3 di bawah ini\n",
    "def nilai(x,y):\n",
    "    pangkat=pow(x,y)\n",
    "    pembagi=divmod(x,y)\n",
    "    print(f\"{x} pangkat {y} = {pangkat}\")\n",
    "    print(f\"{x} dibagi {y} = {pembagi[0]} dengan sisa hasil {pembagi[1]}\")\n",
    "    \n",
    "output= nilai(5,2)"
   ]
  }
 ],
 "metadata": {
  "kernelspec": {
   "display_name": "Python 3",
   "language": "python",
   "name": "python3"
  },
  "language_info": {
   "codemirror_mode": {
    "name": "ipython",
    "version": 3
   },
   "file_extension": ".py",
   "mimetype": "text/x-python",
   "name": "python",
   "nbconvert_exporter": "python",
   "pygments_lexer": "ipython3",
   "version": "3.11.2"
  },
  "orig_nbformat": 4,
  "vscode": {
   "interpreter": {
    "hash": "5addf786bcd861d1ce5006f23111f8cbb206731e5b61b0a5632ba9e0252558a8"
   }
  }
 },
 "nbformat": 4,
 "nbformat_minor": 2
}
