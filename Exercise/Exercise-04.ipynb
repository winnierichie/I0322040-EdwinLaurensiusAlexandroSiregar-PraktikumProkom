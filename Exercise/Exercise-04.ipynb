{
 "cells": [
  {
   "cell_type": "code",
   "execution_count": null,
   "metadata": {},
   "outputs": [],
   "source": [
    "print(input(\"Nama: \"))\n",
    "print(input(\"NIM: \"))\n",
    "print(input(\"Kelas: \"))"
   ]
  },
  {
   "attachments": {},
   "cell_type": "markdown",
   "metadata": {},
   "source": [
    "## 1."
   ]
  },
  {
   "attachments": {},
   "cell_type": "markdown",
   "metadata": {},
   "source": [
    "Buatlah program yang meminta input string dari user, kemudian program akan menentukan string tersebut adalah palyndrome atau bukan.<br>\n",
    "* Palyndrome adalah kata atau kalimat yang jika dibalik hasilnya sama\n",
    "* kasur rusak adalah palyndrome\n",
    "\n",
    "> *note: Kerjakan soal ini dengan percabangan*"
   ]
  },
  {
   "cell_type": "code",
   "execution_count": 18,
   "metadata": {},
   "outputs": [
    {
     "name": "stdout",
     "output_type": "stream",
     "text": [
      "kasur rusak termasuk kata Palyndrome\n"
     ]
    }
   ],
   "source": [
    "# Kerjakan soal no 1 di sini\n",
    "a=str(input(\"masukkan nama input \"))\n",
    "if (a[::-1]==a):\n",
    "    print(a[::-1], \"termasuk kata Palyndrome\")\n",
    "else:\n",
    "    print(a,\"bukan kata yang termasuk Palyndrome\")"
   ]
  },
  {
   "attachments": {},
   "cell_type": "markdown",
   "metadata": {},
   "source": [
    "## 2."
   ]
  },
  {
   "attachments": {},
   "cell_type": "markdown",
   "metadata": {},
   "source": [
    "Buatlah program yang meminta input berupa tahun dan bulan kemudian tampilkan jumlah hari pada bulan tersebut (perbedaan pada tahun kabisat).<br>\n",
    "\n",
    "> *note: Kerjakan soal ini dengan percabangan*"
   ]
  },
  {
   "cell_type": "code",
   "execution_count": 15,
   "metadata": {},
   "outputs": [
    {
     "name": "stdout",
     "output_type": "stream",
     "text": [
      "Jumlah hari pada bulan februari tahun 2004 adalah 29 hari\n"
     ]
    }
   ],
   "source": [
    "# Kerjakan soal no 2 di sini\n",
    "jumlahhari={\"normal\":{\n",
    "    \"januari\":31,\n",
    "    \"februari\":28,\n",
    "    \"maret\":31,\n",
    "    \"april\":30,\n",
    "    \"mei\":31,\n",
    "    \"juni\":30,\n",
    "    \"juli\":31,\n",
    "    \"agustus\":31,\n",
    "    \"september\":30,\n",
    "    \"oktober\":31,\n",
    "    \"november\":30,\n",
    "    \"desember\":31\n",
    "},\n",
    "            \"kabisat\":{\n",
    "    \"januari\":31,\n",
    "    \"februari\":29,\n",
    "    \"maret\":31,\n",
    "    \"april\":30,\n",
    "    \"mei\":31,\n",
    "    \"juni\":30,\n",
    "    \"juli\":31,\n",
    "    \"agustus\":31,\n",
    "    \"september\":30,\n",
    "    \"oktober\":31,\n",
    "    \"november\":30,\n",
    "    \"desember\":31\n",
    "            }\n",
    "}\n",
    "\n",
    "\n",
    "a=int(input(\"masukkan tahun\"))\n",
    "b=str(input(\"masukkan bulan (lowercase)\"))\n",
    "if a % 4 ==0 and (a % 400 ==0 or a % 100 ==0):\n",
    "    print(\"Jumlah hari pada bulan\",b, \"tahun\",a, \"adalah\", jumlahhari[\"normal\"][b], \"hari\")\n",
    "else:\n",
    "    print(\"Jumlah hari pada bulan\",b, \"tahun\",a, \"adalah\", jumlahhari[\"kabisat\"][b], \"hari\")"
   ]
  }
 ],
 "metadata": {
  "kernelspec": {
   "display_name": "Python 3",
   "language": "python",
   "name": "python3"
  },
  "language_info": {
   "codemirror_mode": {
    "name": "ipython",
    "version": 3
   },
   "file_extension": ".py",
   "mimetype": "text/x-python",
   "name": "python",
   "nbconvert_exporter": "python",
   "pygments_lexer": "ipython3",
   "version": "3.11.2"
  },
  "orig_nbformat": 4
 },
 "nbformat": 4,
 "nbformat_minor": 2
}
