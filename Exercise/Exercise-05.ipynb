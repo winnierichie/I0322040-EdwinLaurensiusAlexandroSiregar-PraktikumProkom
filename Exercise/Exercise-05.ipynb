{
 "cells": [
  {
   "attachments": {},
   "cell_type": "markdown",
   "metadata": {},
   "source": [
    "1. Diberikan List sebagai berikut!"
   ]
  },
  {
   "cell_type": "code",
   "execution_count": 13,
   "metadata": {},
   "outputs": [],
   "source": [
    "list1 = ['a','b','c']\n",
    "list2 = ['c','d','e']"
   ]
  },
  {
   "attachments": {},
   "cell_type": "markdown",
   "metadata": {},
   "source": [
    "Buatlah program pengulangan untuk menampilkan elemen dalam kedua list tersebut yang sama! (Contoh Output \"Nilai yang sama adalah 'C'\")"
   ]
  },
  {
   "cell_type": "code",
   "execution_count": 12,
   "metadata": {},
   "outputs": [
    {
     "name": "stdout",
     "output_type": "stream",
     "text": [
      "Nilai yang sama adalah c\n"
     ]
    }
   ],
   "source": [
    "# Kerjakan nomor 1 di sini\n",
    "for a in list1:\n",
    "    if a in list2:\n",
    "        print(f\"Nilai yang sama adalah {a}\")"
   ]
  },
  {
   "attachments": {},
   "cell_type": "markdown",
   "metadata": {},
   "source": [
    "2. Buatlah sebuah list yang berisi daftar mata kuliah di Teknik Industri UNS (minimal 10 matkul). Kemudian buat program pencarian menggunakan pengulangan. Apabila nama matkul yang user inputkan sudah sesuai dengan isi list maka program akan berhenti dan menampilkan output \"Mata Kuliah (matkul yang diinput user) adalah mata kuliah di Teknik Industri UNS\"."
   ]
  },
  {
   "cell_type": "code",
   "execution_count": 11,
   "metadata": {},
   "outputs": [
    {
     "name": "stdout",
     "output_type": "stream",
     "text": [
      "kalkulus\n",
      "analisis estimasi biaya\n",
      "pengantar teknik industri\n",
      "sistem lingkungan industri\n",
      "programa komputer\n",
      "material teknik\n",
      "mekanika teknik\n",
      "menggambar teknik\n",
      "pendidikan agama\n",
      "pendidikan kewarganegaraan\n",
      "kimia dasar\n",
      "biologi\n",
      "fisika dasar\n",
      "pengantar rekayasa dan desain\n",
      "Mata Kuliah kalkulus adalah mata kuliah di Teknik Industri UNS\n"
     ]
    }
   ],
   "source": [
    "# Kerjakan nomor 2 di sini\n",
    "list=[\"kalkulus\", \"analisis estimasi biaya\", \"pengantar teknik industri\", \"sistem lingkungan industri\", \"programa komputer\",\n",
    "      \"material teknik\", \"mekanika teknik\", \"menggambar teknik\", \"pendidikan agama\", \"pendidikan kewarganegaraan\", \"kimia dasar\",\n",
    "      \"biologi\", \"fisika dasar\", \"pengantar rekayasa dan desain\"\n",
    "      ]\n",
    "for data in list:\n",
    "    print(data)\n",
    "a=str(input(\"masukkan nama mata kuliah :\"))\n",
    "a=a.lower()\n",
    "for i in range(len(list)):\n",
    "    if list[i]==a:\n",
    "        print(f\"Mata Kuliah {a} adalah mata kuliah di Teknik Industri UNS\")\n",
    "        break\n",
    "else:\n",
    "    print(f\"Mata Kuliah {a} adalah mata kuliah di Teknik Industri UNS\")"
   ]
  },
  {
   "attachments": {},
   "cell_type": "markdown",
   "metadata": {},
   "source": [
    "3. Buatlah program untuk menampilkan faktorial dari suatu bilangan dimana bilangan tersebut didapat melalui input user!"
   ]
  },
  {
   "cell_type": "code",
   "execution_count": 10,
   "metadata": {},
   "outputs": [
    {
     "name": "stdout",
     "output_type": "stream",
     "text": [
      "Hasil faktorial dari bilangan 6! adalah 720\n"
     ]
    }
   ],
   "source": [
    "# Kerjakan nomor 3 di sini\n",
    "a=int(input(\"masukkan angka yang ingin anda faktorialkan :\"))\n",
    "b=1\n",
    "for c in range(1,a+1):\n",
    "    b=b*c\n",
    "print(f\"Hasil faktorial dari bilangan {a}! adalah {b}\")"
   ]
  }
 ],
 "metadata": {
  "kernelspec": {
   "display_name": "Python 3",
   "language": "python",
   "name": "python3"
  },
  "language_info": {
   "codemirror_mode": {
    "name": "ipython",
    "version": 3
   },
   "file_extension": ".py",
   "mimetype": "text/x-python",
   "name": "python",
   "nbconvert_exporter": "python",
   "pygments_lexer": "ipython3",
   "version": "3.11.2"
  },
  "orig_nbformat": 4
 },
 "nbformat": 4,
 "nbformat_minor": 2
}
