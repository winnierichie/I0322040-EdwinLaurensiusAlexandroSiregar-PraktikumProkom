{
 "cells": [
  {
   "cell_type": "code",
   "execution_count": 2,
   "metadata": {},
   "outputs": [
    {
     "data": {
      "text/plain": [
       "[[[1], [2]], [[3], [4]]]"
      ]
     },
     "execution_count": 2,
     "metadata": {},
     "output_type": "execute_result"
    }
   ],
   "source": [
    "#Buatlah sebuah fungsi untuk membuat matrix berdasarkan input dari user\n",
    "\n",
    "def create_matrix(baris,kolom):\n",
    "    matrix = []\n",
    "\n",
    "    #Tulis kode kamu disini\n",
    "    for i in range (baris):\n",
    "        matrix.append([])\n",
    "        for j in range (kolom):\n",
    "            elemen=int(input(f\"Masukkan elemen matrix [{i}][{j}]:\"))\n",
    "            matrix[i].append([elemen])\n",
    "        \n",
    "    return matrix\n",
    "\n",
    "\n",
    "baris = int(input('Masukkan Jumlah Baris:\\t'))\n",
    "kolom = int(input('Masukkan Jumlah Kolom:\\t'))\n",
    "\n",
    "create_matrix(baris,kolom)"
   ]
  },
  {
   "cell_type": "code",
   "execution_count": 2,
   "metadata": {},
   "outputs": [
    {
     "data": {
      "text/plain": [
       "[[-2, 9], [1, -2]]"
      ]
     },
     "execution_count": 2,
     "metadata": {},
     "output_type": "execute_result"
    }
   ],
   "source": [
    "#Buatlah fungsi untuk melakukan pengurangan antar dua matrix berdasarkan input user\n",
    "\n",
    "def kurang_matrix(matrixA, matrixB):\n",
    "    kurang = [[0,0],\n",
    "              [0,0]]\n",
    "\n",
    "    #Tulis kode kamu disini\n",
    "    for a in range (len(matrixA)):\n",
    "        for b in range (len(matrixB[a])):\n",
    "            kurang [a][b]=matrixA[a][b]-matrixB[a][b]\n",
    "\n",
    "    return kurang\n",
    "\n",
    "matrixA = [[0,9],\n",
    "           [1,2]]\n",
    "matrixB = [[2,0],\n",
    "           [0,4]]\n",
    "\n",
    "\n",
    "kurang_matrix(matrixA,matrixB)\n"
   ]
  },
  {
   "cell_type": "code",
   "execution_count": 4,
   "metadata": {},
   "outputs": [
    {
     "data": {
      "text/plain": [
       "[[0.5, 1.0], [1.5, 2.0]]"
      ]
     },
     "execution_count": 4,
     "metadata": {},
     "output_type": "execute_result"
    }
   ],
   "source": [
    "#Buatlah Fungsi untuk melakukan pembagian matrix dengan skalar berdasarkan input user\n",
    "\n",
    "def bagi_matrix(matrix1, skalar):\n",
    "    hasil = [[0,0],\n",
    "             [0,0]]\n",
    "\n",
    "    #Tulis kode kamu disini\n",
    "    for x in range (len(matrix1)):\n",
    "        for y in range (len(matrix1[x])):\n",
    "            hasil [x][y]=matrix1[x][y]/skalar\n",
    "\n",
    "    return hasil\n",
    "\n",
    "\n",
    "matrix1 = [[1,2],\n",
    "           [3,4]]\n",
    "skalar = int(input('Matrix dibagi berapa?\\t'))\n",
    "\n",
    "\n",
    "bagi_matrix(matrix1, skalar)"
   ]
  }
 ],
 "metadata": {
  "kernelspec": {
   "display_name": "Python 3",
   "language": "python",
   "name": "python3"
  },
  "language_info": {
   "codemirror_mode": {
    "name": "ipython",
    "version": 3
   },
   "file_extension": ".py",
   "mimetype": "text/x-python",
   "name": "python",
   "nbconvert_exporter": "python",
   "pygments_lexer": "ipython3",
   "version": "3.11.2"
  },
  "orig_nbformat": 4
 },
 "nbformat": 4,
 "nbformat_minor": 2
}
